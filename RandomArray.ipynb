{
  "nbformat": 4,
  "nbformat_minor": 0,
  "metadata": {
    "colab": {
      "name": "RandomArray.ipynb",
      "version": "0.3.2",
      "provenance": [],
      "collapsed_sections": [],
      "include_colab_link": true
    },
    "kernelspec": {
      "name": "python3",
      "display_name": "Python 3"
    }
  },
  "cells": [
    {
      "cell_type": "markdown",
      "metadata": {
        "id": "view-in-github",
        "colab_type": "text"
      },
      "source": [
        "<a href=\"https://colab.research.google.com/github/KiChoudhary/python/blob/master/RandomArray.ipynb\" target=\"_parent\"><img src=\"https://colab.research.google.com/assets/colab-badge.svg\" alt=\"Open In Colab\"/></a>"
      ]
    },
    {
      "cell_type": "markdown",
      "metadata": {
        "id": "cOkSJ_T7YUnL",
        "colab_type": "text"
      },
      "source": [
        "**pynumber: 1**\n",
        "\n",
        "Create 2D numpy  based array with given conditions:\n",
        "\n",
        "*i*)   take input from user in terms of dimension like (3x2 or 6x7)\n",
        "*ii*)   fill this numpy array with random number\n",
        "*iii*)  store this array in a file"
      ]
    },
    {
      "cell_type": "code",
      "metadata": {
        "id": "1-KqUCOuMDBC",
        "colab_type": "code",
        "colab": {}
      },
      "source": [
        "import numpy as np\n",
        "import random as rn"
      ],
      "execution_count": 0,
      "outputs": []
    },
    {
      "cell_type": "code",
      "metadata": {
        "id": "17zq0VEtSPoM",
        "colab_type": "code",
        "outputId": "6c7bbd68-edd8-4d96-b162-cc9f0a7a0054",
        "colab": {
          "base_uri": "https://localhost:8080/",
          "height": 34
        }
      },
      "source": [
        "s = input(\"Enter the dimension of the array (aXb): \") #input from the user\n",
        "s1 = s.split('X') #splitting the input srtring and saving to a list\n"
      ],
      "execution_count": 0,
      "outputs": [
        {
          "output_type": "stream",
          "text": [
            "Enter the dimension of the array (aXb): 3X2\n"
          ],
          "name": "stdout"
        }
      ]
    },
    {
      "cell_type": "code",
      "metadata": {
        "id": "0lTPVSUtOYWR",
        "colab_type": "code",
        "outputId": "d93e921e-7fab-437d-eb98-418752cfc017",
        "colab": {
          "base_uri": "https://localhost:8080/",
          "height": 68
        }
      },
      "source": [
        "a = np.random.random([int(s1[0]),int(s1[1])]) #creating the 2-D array with the input dimensions with random numbers\n",
        "a #printing the array"
      ],
      "execution_count": 0,
      "outputs": [
        {
          "output_type": "execute_result",
          "data": {
            "text/plain": [
              "array([[0.33584426, 0.60470794],\n",
              "       [0.18957974, 0.54873044],\n",
              "       [0.25197186, 0.3953362 ]])"
            ]
          },
          "metadata": {
            "tags": []
          },
          "execution_count": 6
        }
      ]
    },
    {
      "cell_type": "code",
      "metadata": {
        "id": "sUqd-M8_M0SS",
        "colab_type": "code",
        "colab": {}
      },
      "source": [
        "np.savetxt('array.txt', a) #saving the array into a file"
      ],
      "execution_count": 0,
      "outputs": []
    }
  ]
}