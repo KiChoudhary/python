{
  "nbformat": 4,
  "nbformat_minor": 0,
  "metadata": {
    "colab": {
      "name": "GreetAccordingToCurrentTime.ipynb",
      "version": "0.3.2",
      "provenance": [],
      "include_colab_link": true
    },
    "kernelspec": {
      "name": "python3",
      "display_name": "Python 3"
    }
  },
  "cells": [
    {
      "cell_type": "markdown",
      "metadata": {
        "id": "view-in-github",
        "colab_type": "text"
      },
      "source": [
        "<a href=\"https://colab.research.google.com/github/KiChoudhary/python/blob/Python-the-language/GreetAccordingToCurrentTime.ipynb\" target=\"_parent\"><img src=\"https://colab.research.google.com/assets/colab-badge.svg\" alt=\"Open In Colab\"/></a>"
      ]
    },
    {
      "cell_type": "markdown",
      "metadata": {
        "id": "5NORzEmQElYq",
        "colab_type": "text"
      },
      "source": [
        "Write a code  will take  input as your name and greet you with\n",
        "good morning , good evening , goodafter noon , good night as per the current time your system "
      ]
    },
    {
      "cell_type": "code",
      "metadata": {
        "id": "cDNEDFHCEpnr",
        "colab_type": "code",
        "colab": {}
      },
      "source": [
        "import time"
      ],
      "execution_count": 0,
      "outputs": []
    },
    {
      "cell_type": "code",
      "metadata": {
        "id": "bo06PeJCGBQE",
        "colab_type": "code",
        "colab": {
          "base_uri": "https://localhost:8080/",
          "height": 35
        },
        "outputId": "e94ff15b-5eaa-4213-d606-85fa08160863"
      },
      "source": [
        "name = input(\"What's your name?\")"
      ],
      "execution_count": 6,
      "outputs": [
        {
          "output_type": "stream",
          "text": [
            "What's your name?Kirti\n"
          ],
          "name": "stdout"
        }
      ]
    },
    {
      "cell_type": "code",
      "metadata": {
        "id": "BJQGlX2tGAc1",
        "colab_type": "code",
        "colab": {}
      },
      "source": [
        "current_hour=time.localtime().tm_hour"
      ],
      "execution_count": 0,
      "outputs": []
    },
    {
      "cell_type": "code",
      "metadata": {
        "id": "IxZPnUseFUYB",
        "colab_type": "code",
        "colab": {
          "base_uri": "https://localhost:8080/",
          "height": 35
        },
        "outputId": "193536dc-dd48-4f1f-f01f-abbaaab32f13"
      },
      "source": [
        "if(current_hour in range(12,17)):\n",
        "  print('Good afternoon ',name)\n",
        "elif(current_hour in range(17,20)):\n",
        "  print('Good Evening ',name)\n",
        "elif(current_hour in range(20,24) or current_hour in range(0,4)):\n",
        "  print('Good Night ',name)\n",
        "else:\n",
        "  print('Good Morning ',name)"
      ],
      "execution_count": 13,
      "outputs": [
        {
          "output_type": "stream",
          "text": [
            "Good Evening  Kirti\n"
          ],
          "name": "stdout"
        }
      ]
    }
  ]
}