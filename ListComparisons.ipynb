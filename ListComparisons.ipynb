{
  "nbformat": 4,
  "nbformat_minor": 0,
  "metadata": {
    "colab": {
      "name": "ListComparisons.ipynb",
      "version": "0.3.2",
      "provenance": [],
      "collapsed_sections": [],
      "include_colab_link": true
    },
    "kernelspec": {
      "name": "python3",
      "display_name": "Python 3"
    }
  },
  "cells": [
    {
      "cell_type": "markdown",
      "metadata": {
        "id": "view-in-github",
        "colab_type": "text"
      },
      "source": [
        "<a href=\"https://colab.research.google.com/github/KiChoudhary/python/blob/Python-the-language/ListComparisons.ipynb\" target=\"_parent\"><img src=\"https://colab.research.google.com/assets/colab-badge.svg\" alt=\"Open In Colab\"/></a>"
      ]
    },
    {
      "cell_type": "markdown",
      "metadata": {
        "id": "Gr29O40FFqZL",
        "colab_type": "text"
      },
      "source": [
        "take a list say  adhoc=[1,2,3,1,4,5,66,22,2,6,0,9]\n",
        "write the program that will do\n",
        "  ***i)***  print only those numbers greater than 5\n",
        " ***ii)***  also print those numbers those are less than or  equals to 2  ( <= 2 )\n",
        "***iii)**  store these answers in in two different list also"
      ]
    },
    {
      "cell_type": "code",
      "metadata": {
        "id": "ZLnlqvAzGBxn",
        "colab_type": "code",
        "colab": {}
      },
      "source": [
        "adhoc = [1,2,3,1,4,5,66,2,2,6,0,9]\n",
        "g5 = []\n",
        "l2=[]"
      ],
      "execution_count": 0,
      "outputs": []
    },
    {
      "cell_type": "code",
      "metadata": {
        "id": "2kZThB0ZGL2m",
        "colab_type": "code",
        "colab": {}
      },
      "source": [
        "for i in range(0,len(adhoc)):\n",
        "  if adhoc[i]>5:\n",
        "    g5.append(adhoc[i])\n",
        "  if adhoc[i]<=2:\n",
        "    l2.append(adhoc[i])"
      ],
      "execution_count": 0,
      "outputs": []
    },
    {
      "cell_type": "code",
      "metadata": {
        "id": "v75frJSSHlWg",
        "colab_type": "code",
        "outputId": "1d302b85-2b60-4b11-f7f9-ad0e3e1af670",
        "colab": {
          "base_uri": "https://localhost:8080/",
          "height": 51
        }
      },
      "source": [
        "print(\"Numbers greater than 5: \",g5)\n",
        "print(\"Numbers less than and equals to 2: \",l2)"
      ],
      "execution_count": 0,
      "outputs": [
        {
          "output_type": "stream",
          "text": [
            "Numbers greater than 5:  [66, 6, 9]\n",
            "Numbers less than and equals to 2:  [1, 2, 1, 2, 2, 0]\n"
          ],
          "name": "stdout"
        }
      ]
    }
  ]
}