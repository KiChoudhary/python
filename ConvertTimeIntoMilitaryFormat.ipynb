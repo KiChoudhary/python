{
  "nbformat": 4,
  "nbformat_minor": 0,
  "metadata": {
    "colab": {
      "name": "ConvertTimeIntoMilitaryFormat.ipynb",
      "version": "0.3.2",
      "provenance": [],
      "include_colab_link": true
    },
    "kernelspec": {
      "name": "python3",
      "display_name": "Python 3"
    }
  },
  "cells": [
    {
      "cell_type": "markdown",
      "metadata": {
        "id": "view-in-github",
        "colab_type": "text"
      },
      "source": [
        "<a href=\"https://colab.research.google.com/github/KiChoudhary/python/blob/master/ConvertTimeIntoMilitaryFormat.ipynb\" target=\"_parent\"><img src=\"https://colab.research.google.com/assets/colab-badge.svg\" alt=\"Open In Colab\"/></a>"
      ]
    },
    {
      "cell_type": "code",
      "metadata": {
        "id": "9V-gOCWW6YTd",
        "colab_type": "code",
        "outputId": "4dc1851c-0243-430a-b08f-019758c8953e",
        "colab": {
          "base_uri": "https://localhost:8080/",
          "height": 34
        }
      },
      "source": [
        "time = input(\"Enter the time: (HH:MM:SS AM/PM)\")"
      ],
      "execution_count": 0,
      "outputs": [
        {
          "output_type": "stream",
          "text": [
            "Enter the time: (HH:MM:SS AM/PM)10:40:44 PM\n"
          ],
          "name": "stdout"
        }
      ]
    },
    {
      "cell_type": "code",
      "metadata": {
        "id": "6nR7oufJ6l5r",
        "colab_type": "code",
        "colab": {}
      },
      "source": [
        "split_time = time.split(\" \")\n",
        "split_time2=split_time[0].split(\":\")"
      ],
      "execution_count": 0,
      "outputs": []
    },
    {
      "cell_type": "code",
      "metadata": {
        "id": "gcnsWpfWCL2I",
        "colab_type": "code",
        "outputId": "f55f6a0e-4e54-43b6-f0e1-8e0a5df541fb",
        "colab": {
          "base_uri": "https://localhost:8080/",
          "height": 34
        }
      },
      "source": [
        "for i in range(0,len(split_time2)):\n",
        "  split_time2[i]=int(split_time2[i])\n",
        "\n",
        "\n",
        "if split_time2[0] not in range(1,13):\n",
        "  print(\"values entered are incorrect\")\n",
        "elif split_time2[1] not in range(0,60):\n",
        "  print(\"values entered are incorrect\")\n",
        "elif split_time2[2] not in range(0,60):\n",
        "  print(\"values entered are incorrect\")\n",
        "else:\n",
        "  d = {'am':0,'AM':0,'pm':1,'PM':1}\n",
        "  if d[split_time[1]] == 0:\n",
        "    print(split_time[0])\n",
        "  else:\n",
        "    split_time2[0] = int(split_time2[0])\n",
        "    split_time2[0]+=12\n",
        "    if split_time2[0]==24: splite_time2[0]=24\n",
        "    print(split_time2[0],\":\",split_time2[1],\":\",split_time2[2])\n",
        "  "
      ],
      "execution_count": 0,
      "outputs": [
        {
          "output_type": "stream",
          "text": [
            "22 : 40 : 44\n"
          ],
          "name": "stdout"
        }
      ]
    }
  ]
}