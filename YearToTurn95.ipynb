{
  "nbformat": 4,
  "nbformat_minor": 0,
  "metadata": {
    "colab": {
      "name": "YearToTurn95.ipynb",
      "version": "0.3.2",
      "provenance": [],
      "include_colab_link": true
    },
    "kernelspec": {
      "name": "python3",
      "display_name": "Python 3"
    }
  },
  "cells": [
    {
      "cell_type": "markdown",
      "metadata": {
        "id": "view-in-github",
        "colab_type": "text"
      },
      "source": [
        "<a href=\"https://colab.research.google.com/github/KiChoudhary/python/blob/Python-the-language/YearToTurn95.ipynb\" target=\"_parent\"><img src=\"https://colab.research.google.com/assets/colab-badge.svg\" alt=\"Open In Colab\"/></a>"
      ]
    },
    {
      "cell_type": "markdown",
      "metadata": {
        "id": "0fGNb5KTAGPB",
        "colab_type": "text"
      },
      "source": [
        "Create a program that asks the user to enter their name and their age.\n",
        " Print out a message that will tell them the year that they will turn 95 years old."
      ]
    },
    {
      "cell_type": "markdown",
      "metadata": {
        "id": "fMFCQWrXDUfG",
        "colab_type": "text"
      },
      "source": [
        ""
      ]
    },
    {
      "cell_type": "code",
      "metadata": {
        "id": "pZ1J4rUkB4py",
        "colab_type": "code",
        "colab": {}
      },
      "source": [
        "import datetime"
      ],
      "execution_count": 0,
      "outputs": []
    },
    {
      "cell_type": "code",
      "metadata": {
        "id": "wXz_k52vAJUl",
        "colab_type": "code",
        "colab": {
          "base_uri": "https://localhost:8080/",
          "height": 52
        },
        "outputId": "f60d5f73-c26f-46dd-9215-9768210fe789"
      },
      "source": [
        "name = input(\"Enter your name: \")\n",
        "age = int(input(\"Enter your age: \"))"
      ],
      "execution_count": 3,
      "outputs": [
        {
          "output_type": "stream",
          "text": [
            "Enter your name: Kirti\n",
            "Enter your age: 21\n"
          ],
          "name": "stdout"
        }
      ]
    },
    {
      "cell_type": "code",
      "metadata": {
        "id": "34zOGhbRAqdY",
        "colab_type": "code",
        "colab": {
          "base_uri": "https://localhost:8080/",
          "height": 35
        },
        "outputId": "2eb6f5e4-d4a5-48bc-ca56-33f59e187b7e"
      },
      "source": [
        "current_year = int(datetime.datetime.now().year)\n",
        "year = current_year+(95-age)\n",
        "print(name,\" will turn 95 in the year \",year)"
      ],
      "execution_count": 7,
      "outputs": [
        {
          "output_type": "stream",
          "text": [
            "Kirti  will turn 95 in the year  2093\n"
          ],
          "name": "stdout"
        }
      ]
    }
  ]
}